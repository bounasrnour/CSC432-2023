{
  "nbformat": 4,
  "nbformat_minor": 0,
  "metadata": {
    "colab": {
      "provenance": []
    },
    "kernelspec": {
      "name": "python3",
      "display_name": "Python 3"
    },
    "language_info": {
      "name": "python"
    }
  },
  "cells": [
    {
      "cell_type": "markdown",
      "source": [
        "# Python Basics"
      ],
      "metadata": {
        "id": "gew3wHCfIksQ"
      }
    },
    {
      "cell_type": "markdown",
      "source": [
        "## Variables\n",
        "In python variables have dynamic types which means we don't need to write the type of the variable before the variable name"
      ],
      "metadata": {
        "id": "vDxJMlIpIsd3"
      }
    },
    {
      "cell_type": "code",
      "execution_count": null,
      "metadata": {
        "colab": {
          "base_uri": "https://localhost:8080/"
        },
        "id": "WGmW4b65ITaA",
        "outputId": "8e6189f4-e1e8-464f-f09c-d11dedb75100"
      },
      "outputs": [
        {
          "output_type": "stream",
          "name": "stdout",
          "text": [
            "hi there True Hello World\n"
          ]
        }
      ],
      "source": [
        "age = 20\n",
        "is_active = True\n",
        "message = \"Hello World\"\n",
        "age = 'hi there'\n",
        "print(age, is_active, message)"
      ]
    },
    {
      "cell_type": "markdown",
      "source": [
        "## Data Types"
      ],
      "metadata": {
        "id": "O09dnTfdJd2v"
      }
    },
    {
      "cell_type": "markdown",
      "source": [
        "### Integers & floats"
      ],
      "metadata": {
        "id": "2h7BQp5lJke9"
      }
    },
    {
      "cell_type": "code",
      "source": [
        "sum = 100\n",
        "real_num = 100.015\n"
      ],
      "metadata": {
        "id": "lqAg2AmxJf4S"
      },
      "execution_count": null,
      "outputs": []
    },
    {
      "cell_type": "markdown",
      "source": [
        "### Strings"
      ],
      "metadata": {
        "id": "hO8M8tEKfb1X"
      }
    },
    {
      "cell_type": "code",
      "source": [
        "message = \"hello world\"\n",
        "s1 = 'hi there'"
      ],
      "metadata": {
        "id": "9lCXcPgAffj-"
      },
      "execution_count": null,
      "outputs": []
    },
    {
      "cell_type": "markdown",
      "source": [
        "### Booleans"
      ],
      "metadata": {
        "id": "6ZIpJOhggBXy"
      }
    },
    {
      "cell_type": "code",
      "source": [
        "b1 = True\n",
        "b2 = False"
      ],
      "metadata": {
        "id": "J423hGCqgDaT"
      },
      "execution_count": null,
      "outputs": []
    },
    {
      "cell_type": "markdown",
      "source": [
        "### Lists\n",
        "you can think as lists as vectors in c++, or like a dynamic array"
      ],
      "metadata": {
        "id": "6N3hYfdNfmve"
      }
    },
    {
      "cell_type": "code",
      "source": [
        "l1 = [] # empty list\n",
        "l2 = ['hello', 14, True, 15.0] #can contain multiple data types\n"
      ],
      "metadata": {
        "id": "cPKdC_L9fqEV"
      },
      "execution_count": null,
      "outputs": []
    },
    {
      "cell_type": "markdown",
      "source": [
        "### Useful list functions"
      ],
      "metadata": {
        "id": "9a9ge811g28I"
      }
    },
    {
      "cell_type": "code",
      "source": [
        "l3 = []\n",
        "l3.append(5)\n",
        "l3.append(10)\n",
        "l3.append(1)\n",
        "print(sorted(l3))\n",
        "print(max(l3))\n",
        "print(min(l3))\n",
        "print(len(l3))\n",
        "l3.append([1,2,4]) # we can append a list into a list \n",
        "##accessing a list\n",
        "print(l3)\n",
        "print(l3[3][0])"
      ],
      "metadata": {
        "id": "y0EqM8sEg4lo",
        "colab": {
          "base_uri": "https://localhost:8080/"
        },
        "outputId": "f96b268f-3f52-42be-a813-14acb9d6da9b"
      },
      "execution_count": null,
      "outputs": [
        {
          "output_type": "stream",
          "name": "stdout",
          "text": [
            "[1, 5, 10]\n",
            "10\n",
            "1\n",
            "3\n",
            "[5, 10, 1, [1, 2, 4]]\n",
            "1\n"
          ]
        }
      ]
    },
    {
      "cell_type": "markdown",
      "source": [
        "### Tuples\n",
        "immutable data structure "
      ],
      "metadata": {
        "id": "LaoWfL3MiZsj"
      }
    },
    {
      "cell_type": "code",
      "source": [
        "t1 = (1,2)\n",
        "print(t1[0])\n"
      ],
      "metadata": {
        "id": "6PkEHYhVibRK",
        "colab": {
          "base_uri": "https://localhost:8080/"
        },
        "outputId": "dc3bfde4-c608-4bea-acc7-d580d90cdcc5"
      },
      "execution_count": null,
      "outputs": [
        {
          "output_type": "stream",
          "name": "stdout",
          "text": [
            "1\n"
          ]
        }
      ]
    },
    {
      "cell_type": "markdown",
      "source": [
        "### Dictionaries \n",
        "key pair "
      ],
      "metadata": {
        "id": "8VMhUpWnjFAo"
      }
    },
    {
      "cell_type": "code",
      "source": [
        "d1 = {\n",
        "    \"k1\" : \"12\",\n",
        "    \"k2\" : 13\n",
        "}\n",
        "d2 ={\n",
        "    1: 12,\n",
        "    3:{\n",
        "        \"asd\":11\n",
        "    }\n",
        "}"
      ],
      "metadata": {
        "id": "T5DqevtJjHBc"
      },
      "execution_count": null,
      "outputs": []
    },
    {
      "cell_type": "markdown",
      "source": [
        "### Useful dictionary functions"
      ],
      "metadata": {
        "id": "jtMrBHcLjZrI"
      }
    },
    {
      "cell_type": "code",
      "source": [
        "print(d2.keys())\n",
        "print(d2.values())\n",
        "print(d1.get('k1'))\n",
        "print(d1.get('k4'))\n"
      ],
      "metadata": {
        "id": "obBqU9wNjbM5",
        "colab": {
          "base_uri": "https://localhost:8080/"
        },
        "outputId": "933ad26a-5fc4-4e5d-fd22-05a74464ddbb"
      },
      "execution_count": null,
      "outputs": [
        {
          "output_type": "stream",
          "name": "stdout",
          "text": [
            "dict_keys([1, 3])\n",
            "dict_values([12, {'asd': 11}])\n",
            "12\n",
            "None\n"
          ]
        }
      ]
    },
    {
      "cell_type": "markdown",
      "source": [
        "## Operators"
      ],
      "metadata": {
        "id": "kAC2nIKzoeyO"
      }
    },
    {
      "cell_type": "code",
      "source": [
        "print(10 + 4)\n",
        "print( 2 - 10)\n",
        "print(10/6)\n",
        "print(10//6)\n",
        "print(5 * 8)\n",
        "print(100%2)\n",
        "print(4**2)\n",
        "print(True and False)\n",
        "print(True or False)\n",
        "print(6 == 9)\n",
        "print(5 < 6)\n",
        "print('c' in 'cool')"
      ],
      "metadata": {
        "id": "89vopUfloghf",
        "colab": {
          "base_uri": "https://localhost:8080/"
        },
        "outputId": "2174e0be-cb24-4332-9fb5-1b1a2dd79dc7"
      },
      "execution_count": null,
      "outputs": [
        {
          "output_type": "stream",
          "name": "stdout",
          "text": [
            "14\n",
            "-8\n",
            "1.6666666666666667\n",
            "1\n",
            "40\n",
            "0\n",
            "16\n",
            "False\n",
            "True\n",
            "False\n",
            "True\n",
            "True\n"
          ]
        }
      ]
    },
    {
      "cell_type": "code",
      "source": [
        "i = 9\n",
        "i += 1\n",
        "i -= 1\n",
        "i *= 3\n",
        "i %= 2"
      ],
      "metadata": {
        "id": "ude9x4rFqBMl"
      },
      "execution_count": null,
      "outputs": []
    },
    {
      "cell_type": "markdown",
      "source": [
        "## Control Flow"
      ],
      "metadata": {
        "id": "MlyTa4SuoCOT"
      }
    },
    {
      "cell_type": "code",
      "source": [
        "color = 'red'\n",
        "\n",
        "if color == 'red':\n",
        "  print('red')\n",
        "elif color == 'blue':\n",
        "  print('blue')\n",
        "else:\n",
        "  print('NA')"
      ],
      "metadata": {
        "id": "MF1m3LUMoHue",
        "colab": {
          "base_uri": "https://localhost:8080/"
        },
        "outputId": "6c2f744d-2be9-4171-8757-b9ecdc34e117"
      },
      "execution_count": null,
      "outputs": [
        {
          "output_type": "stream",
          "name": "stdout",
          "text": [
            "red\n"
          ]
        }
      ]
    },
    {
      "cell_type": "markdown",
      "source": [
        "### Loops"
      ],
      "metadata": {
        "id": "FT4iOtzkoUph"
      }
    },
    {
      "cell_type": "code",
      "source": [
        "i = 0\n",
        "while i < 10:\n",
        "  print(i)\n",
        "  i += 1"
      ],
      "metadata": {
        "id": "HxH7FekzoWic"
      },
      "execution_count": null,
      "outputs": []
    },
    {
      "cell_type": "code",
      "source": [
        "for i in range(0,10):\n",
        "  print(i)"
      ],
      "metadata": {
        "id": "IJZU66fFo2gE"
      },
      "execution_count": null,
      "outputs": []
    },
    {
      "cell_type": "markdown",
      "source": [
        "### Looping over a list"
      ],
      "metadata": {
        "id": "YimJCzBjo71z"
      }
    },
    {
      "cell_type": "code",
      "source": [
        "l1 = ['a', 'b', 'c', 1,2,3,4,4]\n",
        "for i in l1:\n",
        "  print(i)"
      ],
      "metadata": {
        "id": "BEdrshX2o66V"
      },
      "execution_count": null,
      "outputs": []
    },
    {
      "cell_type": "markdown",
      "source": [
        "## Functions"
      ],
      "metadata": {
        "id": "-qtFtVw1pa1v"
      }
    },
    {
      "cell_type": "code",
      "source": [
        "def sum(a, b):\n",
        "  return a +b\n",
        "\n",
        "def play_game():\n",
        "  print(\"playing game\")\n",
        "\n",
        "def is_smaller(a,b):\n",
        "  return a <b\n",
        "print(sum(2, 10))\n",
        "play_game()\n",
        "print(is_smaller(1,2))"
      ],
      "metadata": {
        "id": "5-nF0k5jpb5u"
      },
      "execution_count": null,
      "outputs": []
    },
    {
      "cell_type": "markdown",
      "source": [
        "### Recursion\n",
        "a functions that calls itself"
      ],
      "metadata": {
        "id": "74_WOkGCqUwo"
      }
    },
    {
      "cell_type": "code",
      "source": [
        "def fact(n):\n",
        "  if n < 1:\n",
        "    return 1\n",
        "  else:\n",
        "    return n * fact(n - 1)\n",
        "\n",
        "print(fact(5))"
      ],
      "metadata": {
        "id": "liID4-tbqYJk"
      },
      "execution_count": null,
      "outputs": []
    },
    {
      "cell_type": "markdown",
      "source": [
        "## Input\n",
        "get input from user"
      ],
      "metadata": {
        "id": "Li1LPDGMrFjN"
      }
    },
    {
      "cell_type": "code",
      "source": [
        "user_input = input(\"enter text here\")\n",
        "print(user_input)\n",
        "age = int(input('enter age'))"
      ],
      "metadata": {
        "id": "S4l7-M3YrIzm"
      },
      "execution_count": null,
      "outputs": []
    },
    {
      "cell_type": "markdown",
      "source": [
        "## Exeption handling"
      ],
      "metadata": {
        "id": "Hii2elvlrW5v"
      }
    },
    {
      "cell_type": "code",
      "source": [
        "try:\n",
        "  user_input = input('enter age: ')\n",
        "  user_input += 10\n",
        "  print(age)\n",
        "except:\n",
        "  print('some error')\n",
        "\n",
        "i = 10\n",
        "try:\n",
        "  i/0\n",
        "except ZeroDivisionError:\n",
        "  print('0 div')"
      ],
      "metadata": {
        "id": "XqqbvEARrYnT"
      },
      "execution_count": null,
      "outputs": []
    }
  ]
}